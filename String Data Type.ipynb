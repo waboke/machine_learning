{
    "cells": [
        {
            "metadata": {},
            "cell_type": "markdown",
            "source": "# String Operations"
        },
        {
            "metadata": {
                "collapsed": true
            },
            "cell_type": "markdown",
            "source": "<h2 id=\"strings\">What are Strings?</h2>\n"
        },
        {
            "metadata": {},
            "cell_type": "markdown",
            "source": "The following example shows a string contained within 2 quotation marks:"
        },
        {
            "metadata": {},
            "cell_type": "code",
            "source": "# Use quotation marks for defining string\n\n\"Michael Jackson\"",
            "execution_count": 4,
            "outputs": [
                {
                    "output_type": "execute_result",
                    "execution_count": 4,
                    "data": {
                        "text/plain": "'Michael Jackson'"
                    },
                    "metadata": {}
                }
            ]
        },
        {
            "metadata": {},
            "cell_type": "markdown",
            "source": "We can also use single quotation marks:"
        },
        {
            "metadata": {},
            "cell_type": "code",
            "source": "# Use single quotation marks for defining string\n\n'Michael Jackson'",
            "execution_count": 5,
            "outputs": [
                {
                    "output_type": "execute_result",
                    "execution_count": 5,
                    "data": {
                        "text/plain": "'Michael Jackson'"
                    },
                    "metadata": {}
                }
            ]
        },
        {
            "metadata": {},
            "cell_type": "markdown",
            "source": "A string can be a combination of spaces and digits: \n"
        },
        {
            "metadata": {},
            "cell_type": "code",
            "source": "# Digitals and spaces in string\n\n'1 2 3 4 5 6 '",
            "execution_count": 6,
            "outputs": [
                {
                    "output_type": "execute_result",
                    "execution_count": 6,
                    "data": {
                        "text/plain": "'1 2 3 4 5 6 '"
                    },
                    "metadata": {}
                }
            ]
        },
        {
            "metadata": {},
            "cell_type": "markdown",
            "source": "A string can also be a combination of special characters : \n"
        },
        {
            "metadata": {},
            "cell_type": "code",
            "source": "# Special characters in string\n\n'@#2_#]&*^%$'",
            "execution_count": 7,
            "outputs": [
                {
                    "output_type": "execute_result",
                    "execution_count": 7,
                    "data": {
                        "text/plain": "'@#2_#]&*^%$'"
                    },
                    "metadata": {}
                }
            ]
        },
        {
            "metadata": {},
            "cell_type": "markdown",
            "source": "We can print our string using the print statement:"
        },
        {
            "metadata": {},
            "cell_type": "code",
            "source": "# Print the string\n\nprint(\"hello!\")",
            "execution_count": 8,
            "outputs": [
                {
                    "output_type": "stream",
                    "text": "hello!\n",
                    "name": "stdout"
                }
            ]
        },
        {
            "metadata": {},
            "cell_type": "markdown",
            "source": "We can bind or assign a string to another variable:\n"
        },
        {
            "metadata": {},
            "cell_type": "code",
            "source": "# Assign string to variable\n\nname = \"Michael Jackson\"\nname",
            "execution_count": 9,
            "outputs": [
                {
                    "output_type": "execute_result",
                    "execution_count": 9,
                    "data": {
                        "text/plain": "'Michael Jackson'"
                    },
                    "metadata": {}
                }
            ]
        },
        {
            "metadata": {},
            "cell_type": "markdown",
            "source": "<h2 id=\"index\">Indexing</h2>"
        },
        {
            "metadata": {},
            "cell_type": "markdown",
            "source": "The first index can be accessed as follows:"
        },
        {
            "metadata": {},
            "cell_type": "code",
            "source": "# Print the first element in the string\n\nprint(name[0])",
            "execution_count": 10,
            "outputs": [
                {
                    "output_type": "stream",
                    "text": "M\n",
                    "name": "stdout"
                }
            ]
        },
        {
            "metadata": {},
            "cell_type": "markdown",
            "source": "We can access index 6:"
        },
        {
            "metadata": {},
            "cell_type": "code",
            "source": "# Print the element on index 6 in the string\n\nprint(name[6])",
            "execution_count": 11,
            "outputs": [
                {
                    "output_type": "stream",
                    "text": "l\n",
                    "name": "stdout"
                }
            ]
        },
        {
            "metadata": {},
            "cell_type": "markdown",
            "source": "Moreover, we can access the 13th index:"
        },
        {
            "metadata": {},
            "cell_type": "code",
            "source": "# Print the element on the 13th index in the string\n\nprint(name[13])",
            "execution_count": 12,
            "outputs": [
                {
                    "output_type": "stream",
                    "text": "o\n",
                    "name": "stdout"
                }
            ]
        },
        {
            "metadata": {},
            "cell_type": "markdown",
            "source": "<h3 id=\"neg\">Negative Indexing</h3>\n"
        },
        {
            "metadata": {},
            "cell_type": "markdown",
            "source": "Negative index can help us to count the element from the end of the string."
        },
        {
            "metadata": {},
            "cell_type": "markdown",
            "source": "The last element is given by the index -1: \n"
        },
        {
            "metadata": {},
            "cell_type": "code",
            "source": "# Print the last element in the string\n\nprint(name[-1])",
            "execution_count": 13,
            "outputs": [
                {
                    "output_type": "stream",
                    "text": "n\n",
                    "name": "stdout"
                }
            ]
        },
        {
            "metadata": {},
            "cell_type": "markdown",
            "source": "The first element can be obtained by  index -15:\n"
        },
        {
            "metadata": {},
            "cell_type": "code",
            "source": "# Print the first element in the string\n\nprint(name[-15])",
            "execution_count": 14,
            "outputs": [
                {
                    "output_type": "stream",
                    "text": "M\n",
                    "name": "stdout"
                }
            ]
        },
        {
            "metadata": {},
            "cell_type": "markdown",
            "source": "We can find the number of characters in a string by using <code>len</code>, short for length:"
        },
        {
            "metadata": {},
            "cell_type": "code",
            "source": "# Find the length of string\n\nlen(\"Michael Jackson\")",
            "execution_count": 15,
            "outputs": [
                {
                    "output_type": "execute_result",
                    "execution_count": 15,
                    "data": {
                        "text/plain": "15"
                    },
                    "metadata": {}
                }
            ]
        },
        {
            "metadata": {},
            "cell_type": "code",
            "source": "len(name)",
            "execution_count": 16,
            "outputs": [
                {
                    "output_type": "execute_result",
                    "execution_count": 16,
                    "data": {
                        "text/plain": "15"
                    },
                    "metadata": {}
                }
            ]
        },
        {
            "metadata": {},
            "cell_type": "markdown",
            "source": "<h3 id=\"slice\">Slicing</h3>"
        },
        {
            "metadata": {},
            "cell_type": "markdown",
            "source": "We can obtain multiple characters from a string using slicing, we can obtain the 0 to 4th and 8th to the 12th element:  "
        },
        {
            "metadata": {},
            "cell_type": "code",
            "source": "# Take the slice on variable name with only index 0 to index 3\n\nname[0:4]",
            "execution_count": 17,
            "outputs": [
                {
                    "output_type": "execute_result",
                    "execution_count": 17,
                    "data": {
                        "text/plain": "'Mich'"
                    },
                    "metadata": {}
                }
            ]
        },
        {
            "metadata": {},
            "cell_type": "code",
            "source": "# Take the slice on variable name with only index 8 to index 11\n\nname[8:12]",
            "execution_count": 18,
            "outputs": [
                {
                    "output_type": "execute_result",
                    "execution_count": 18,
                    "data": {
                        "text/plain": "'Jack'"
                    },
                    "metadata": {}
                }
            ]
        },
        {
            "metadata": {},
            "cell_type": "markdown",
            "source": "<h3 id=\"stride\">Stride</h3>"
        },
        {
            "metadata": {},
            "cell_type": "code",
            "source": "# Get every second element. The elments on index 1, 3, 5 ...\n\nname[::2]",
            "execution_count": 20,
            "outputs": [
                {
                    "output_type": "execute_result",
                    "execution_count": 20,
                    "data": {
                        "text/plain": "'McalJcsn'"
                    },
                    "metadata": {}
                }
            ]
        },
        {
            "metadata": {},
            "cell_type": "markdown",
            "source": "We can also incorporate slicing  with the stride. In this case, we select the first five elements and then use the stride: "
        },
        {
            "metadata": {},
            "cell_type": "code",
            "source": "# Get every second element in the range from index 0 to index 4\n\nname[0:5:2]",
            "execution_count": 21,
            "outputs": [
                {
                    "output_type": "execute_result",
                    "execution_count": 21,
                    "data": {
                        "text/plain": "'Mca'"
                    },
                    "metadata": {}
                }
            ]
        },
        {
            "metadata": {},
            "cell_type": "markdown",
            "source": "<h3 id=\"concat\">Concatenate Strings</h3>"
        },
        {
            "metadata": {},
            "cell_type": "markdown",
            "source": "We can concatenate or combine strings by using the addition symbols, and the result is a new string that is a combination of both:\n"
        },
        {
            "metadata": {},
            "cell_type": "code",
            "source": "# Concatenate two strings\n\nstatement = name + \"is the best\"\nstatement",
            "execution_count": 22,
            "outputs": [
                {
                    "output_type": "execute_result",
                    "execution_count": 22,
                    "data": {
                        "text/plain": "'Michael Jacksonis the best'"
                    },
                    "metadata": {}
                }
            ]
        },
        {
            "metadata": {},
            "cell_type": "markdown",
            "source": "To replicate values of a string we simply multiply the string by the number of times we would like to replicate it. In this case, the number is three. The result is a new string, and this new string consists of three copies of the original string:"
        },
        {
            "metadata": {},
            "cell_type": "code",
            "source": "# Print the string for 3 times\n\n3 * \"Michael Jackson\"",
            "execution_count": 23,
            "outputs": [
                {
                    "output_type": "execute_result",
                    "execution_count": 23,
                    "data": {
                        "text/plain": "'Michael JacksonMichael JacksonMichael Jackson'"
                    },
                    "metadata": {}
                }
            ]
        },
        {
            "metadata": {},
            "cell_type": "markdown",
            "source": "You can create a new string by setting it to the original variable. Concatenated  with a new string, the result is a new string that changes from Michael Jackson to \u201cMichael Jackson is the best\".\n"
        },
        {
            "metadata": {},
            "cell_type": "code",
            "source": "# Concatenate strings\n\nname = \"Michael Jackson\"\nname = name + \" is the best\"\nname",
            "execution_count": 24,
            "outputs": [
                {
                    "output_type": "execute_result",
                    "execution_count": 24,
                    "data": {
                        "text/plain": "'Michael Jackson is the best'"
                    },
                    "metadata": {}
                }
            ]
        },
        {
            "metadata": {},
            "cell_type": "markdown",
            "source": "___"
        },
        {
            "metadata": {},
            "cell_type": "markdown",
            "source": "<h2 id=\"escape\">Escape Sequences</h2>\n"
        },
        {
            "metadata": {},
            "cell_type": "markdown",
            "source": "Back slashes represent the beginning  of escape sequences. Escape sequences represent strings that may be difficult to input. For example, back slash \"n\" represents a new line. The output is given by a new line after the back slash \"n\" is encountered:\n"
        },
        {
            "metadata": {},
            "cell_type": "code",
            "source": "# New line escape sequence\n\nprint(\" Michael Jackson \\n is the best\" )",
            "execution_count": 26,
            "outputs": [
                {
                    "output_type": "stream",
                    "text": " Michael Jackson \n is the best\n",
                    "name": "stdout"
                }
            ]
        },
        {
            "metadata": {},
            "cell_type": "markdown",
            "source": "Similarly, back slash  \"t\" represents a tab: "
        },
        {
            "metadata": {},
            "cell_type": "code",
            "source": "# Tab escape sequence\n\nprint(\" Michael Jackson \\t is the best\" )",
            "execution_count": 27,
            "outputs": [
                {
                    "output_type": "stream",
                    "text": " Michael Jackson \t is the best\n",
                    "name": "stdout"
                }
            ]
        },
        {
            "metadata": {},
            "cell_type": "markdown",
            "source": "If you want to place a back slash in your string, use a double back slash:"
        },
        {
            "metadata": {},
            "cell_type": "code",
            "source": "# Include back slash in string\n\nprint(\" Michael Jackson \\\\ is the best\" )",
            "execution_count": 28,
            "outputs": [
                {
                    "output_type": "stream",
                    "text": " Michael Jackson \\ is the best\n",
                    "name": "stdout"
                }
            ]
        },
        {
            "metadata": {},
            "cell_type": "markdown",
            "source": "We can also place an \"r\" before the string to display the backslash:"
        },
        {
            "metadata": {},
            "cell_type": "code",
            "source": "# r will tell python that string will be display as raw string\n\nprint(r\" Michael Jackson \\ is the best\" )",
            "execution_count": 29,
            "outputs": [
                {
                    "output_type": "stream",
                    "text": " Michael Jackson \\ is the best\n",
                    "name": "stdout"
                }
            ]
        },
        {
            "metadata": {},
            "cell_type": "markdown",
            "source": "***"
        },
        {
            "metadata": {},
            "cell_type": "markdown",
            "source": "<h2 id=\"operations\">String Operations</h2>"
        },
        {
            "metadata": {},
            "cell_type": "markdown",
            "source": "There are many string operation methods in Python that can be used to manipulate the data. We are going to use some basic string operations on the data. "
        },
        {
            "metadata": {},
            "cell_type": "markdown",
            "source": "Let's try with the method <code>upper</code>; this method converts lower case characters to upper case characters:"
        },
        {
            "metadata": {},
            "cell_type": "code",
            "source": "# Convert all the characters in string to upper case\n\na = \"Thriller is the sixth studio album\"\nprint(\"before upper:\", a)\nb = a.upper()\nprint(\"After upper:\", b)",
            "execution_count": 30,
            "outputs": [
                {
                    "output_type": "stream",
                    "text": "before upper: Thriller is the sixth studio album\nAfter upper: THRILLER IS THE SIXTH STUDIO ALBUM\n",
                    "name": "stdout"
                }
            ]
        },
        {
            "metadata": {},
            "cell_type": "markdown",
            "source": "The method <code>replace</code> replaces a segment of the string, i.e. a substring  with a new string. We input the part of the string we would like to change. The second argument is what we would like to exchange the segment with, and the result is a new string with the segment changed: \n"
        },
        {
            "metadata": {},
            "cell_type": "code",
            "source": "# Replace the old substring with the new target substring is the segment has been found in the string\n\na = \"Michael Jackson is the best\"\nb = a.replace('Michael', 'Janet')\nb",
            "execution_count": 31,
            "outputs": [
                {
                    "output_type": "execute_result",
                    "execution_count": 31,
                    "data": {
                        "text/plain": "'Janet Jackson is the best'"
                    },
                    "metadata": {}
                }
            ]
        },
        {
            "metadata": {},
            "cell_type": "markdown",
            "source": "The method <code>find</code> finds a sub-string. The argument is the substring you would like to find, and the output is the first index of the sequence. We can find the sub-string <code>jack</code> or <code>el<code>.  \n"
        },
        {
            "metadata": {},
            "cell_type": "code",
            "source": "# Find the substring in the string. Only the index of the first elment of substring in string will be the output\n\nname = \"Michael Jackson\"\nname.find('el')",
            "execution_count": 32,
            "outputs": [
                {
                    "output_type": "execute_result",
                    "execution_count": 32,
                    "data": {
                        "text/plain": "5"
                    },
                    "metadata": {}
                }
            ]
        },
        {
            "metadata": {},
            "cell_type": "code",
            "source": "# If cannot find the substring in the string\n\nname.find('Jasdfasdasdf')",
            "execution_count": 33,
            "outputs": [
                {
                    "output_type": "execute_result",
                    "execution_count": 33,
                    "data": {
                        "text/plain": "-1"
                    },
                    "metadata": {}
                }
            ]
        },
        {
            "metadata": {},
            "cell_type": "markdown",
            "source": "<h2 id=\"quiz\">Quiz on Strings</h2>"
        },
        {
            "metadata": {},
            "cell_type": "markdown",
            "source": "What is the value of the variable <code>a</code> after the following code is executed? "
        },
        {
            "metadata": {},
            "cell_type": "code",
            "source": "# Write your code below and press Shift+Enter to execute \n\na = \"1\"\na",
            "execution_count": 3,
            "outputs": [
                {
                    "output_type": "execute_result",
                    "execution_count": 3,
                    "data": {
                        "text/plain": "'1'"
                    },
                    "metadata": {}
                }
            ]
        },
        {
            "metadata": {},
            "cell_type": "markdown",
            "source": "What is the value of the variable <code>b</code> after the following code is executed?\n"
        },
        {
            "metadata": {},
            "cell_type": "code",
            "source": "# Write your code below and press Shift+Enter to execute\n\nb = \"2\"\nb",
            "execution_count": 4,
            "outputs": [
                {
                    "output_type": "execute_result",
                    "execution_count": 4,
                    "data": {
                        "text/plain": "'2'"
                    },
                    "metadata": {}
                }
            ]
        },
        {
            "metadata": {},
            "cell_type": "markdown",
            "source": "What is the value of the variable <code>c</code> after the following code is executed?"
        },
        {
            "metadata": {},
            "cell_type": "code",
            "source": "# Write your code below and press Shift+Enter to execute \n\nc = a + b\nc",
            "execution_count": 5,
            "outputs": [
                {
                    "output_type": "execute_result",
                    "execution_count": 5,
                    "data": {
                        "text/plain": "'12'"
                    },
                    "metadata": {}
                }
            ]
        },
        {
            "metadata": {},
            "cell_type": "markdown",
            "source": "Consider the variable <code>d</code> use slicing to print out the first three elements:"
        },
        {
            "metadata": {},
            "cell_type": "code",
            "source": "# Write your code below and press Shift+Enter to execute\n\nd = \"ABCDEFG\"\nd[0:3]",
            "execution_count": 6,
            "outputs": [
                {
                    "output_type": "execute_result",
                    "execution_count": 6,
                    "data": {
                        "text/plain": "'ABC'"
                    },
                    "metadata": {}
                }
            ]
        },
        {
            "metadata": {},
            "cell_type": "markdown",
            "source": "Use a stride value of 2 to print out every second character of the string <code>e</code>: "
        },
        {
            "metadata": {},
            "cell_type": "code",
            "source": "# Write your code below and press Shift+Enter to execute\n\ne = 'clocrkr1e1c1t'\ne[::2]",
            "execution_count": 7,
            "outputs": [
                {
                    "output_type": "execute_result",
                    "execution_count": 7,
                    "data": {
                        "text/plain": "'correct'"
                    },
                    "metadata": {}
                }
            ]
        },
        {
            "metadata": {},
            "cell_type": "markdown",
            "source": "Print out a backslash:"
        },
        {
            "metadata": {},
            "cell_type": "code",
            "source": "# Write your code below and press Shift+Enter to execute\n\nprint(\" \\ \")",
            "execution_count": 8,
            "outputs": [
                {
                    "output_type": "stream",
                    "text": " \\ \n",
                    "name": "stdout"
                }
            ]
        },
        {
            "metadata": {},
            "cell_type": "markdown",
            "source": "Convert the variable f to uppercase:"
        },
        {
            "metadata": {},
            "cell_type": "code",
            "source": "\nf = \"You are wrong\"\nf.upper()",
            "execution_count": 9,
            "outputs": [
                {
                    "output_type": "execute_result",
                    "execution_count": 9,
                    "data": {
                        "text/plain": "'YOU ARE WRONG'"
                    },
                    "metadata": {}
                }
            ]
        },
        {
            "metadata": {},
            "cell_type": "markdown",
            "source": "Consider the variable g, and find the first index of the sub-string snow:"
        },
        {
            "metadata": {},
            "cell_type": "code",
            "source": "# Write your code below and press Shift+Enter to execute\n\ng = \"Mary had a little lamb Little lamb, little lamb Mary had a little lamb \\\nIts fleece was white as snow And everywhere that Mary went Mary went, Mary went \\\nEverywhere that Mary went The lamb was sure to go\"\ng.find(\"snow\")",
            "execution_count": 10,
            "outputs": [
                {
                    "output_type": "execute_result",
                    "execution_count": 10,
                    "data": {
                        "text/plain": "95"
                    },
                    "metadata": {}
                }
            ]
        },
        {
            "metadata": {},
            "cell_type": "markdown",
            "source": "In the variable g, replace the sub-string Mary with Bob:"
        },
        {
            "metadata": {},
            "cell_type": "code",
            "source": "# Write your code below and press Shift+Enter to execute\nstr(1+1)",
            "execution_count": 11,
            "outputs": [
                {
                    "output_type": "execute_result",
                    "execution_count": 11,
                    "data": {
                        "text/plain": "'2'"
                    },
                    "metadata": {}
                }
            ]
        },
        {
            "metadata": {},
            "cell_type": "code",
            "source": "g.replace(\"Mary\", \"Bob\")",
            "execution_count": 12,
            "outputs": [
                {
                    "output_type": "execute_result",
                    "execution_count": 12,
                    "data": {
                        "text/plain": "'Bob had a little lamb Little lamb, little lamb Bob had a little lamb Its fleece was white as snow And everywhere that Bob went Bob went, Bob went Everywhere that Bob went The lamb was sure to go'"
                    },
                    "metadata": {}
                }
            ]
        },
        {
            "metadata": {},
            "cell_type": "code",
            "source": "",
            "execution_count": null,
            "outputs": []
        }
    ],
    "metadata": {
        "kernelspec": {
            "name": "python37",
            "display_name": "Python 3.7 with Spark",
            "language": "python3"
        },
        "language_info": {
            "mimetype": "text/x-python",
            "nbconvert_exporter": "python",
            "name": "python",
            "pygments_lexer": "ipython3",
            "version": "3.7.9",
            "file_extension": ".py",
            "codemirror_mode": {
                "version": 3,
                "name": "ipython"
            }
        }
    },
    "nbformat": 4,
    "nbformat_minor": 1
}